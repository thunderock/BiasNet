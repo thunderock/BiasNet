{
 "cells": [
  {
   "cell_type": "code",
   "execution_count": 1,
   "id": "e3036796",
   "metadata": {},
   "outputs": [],
   "source": [
    "import numpy as np\n",
    "from utils import evaluate_model_policy\n",
    "from trainer import get_trained_model\n",
    "from environment import StreetFighterEnv\n",
    "from trainer import _get_model\n",
    "from stable_baselines3 import PPO, A2C\n",
    "from actor_critic import A2CCNNPolicy\n",
    "from feature_extractors import CNNExtractorWithAttention, CNNExtractor\n",
    "from layers import ActorCriticLayer\n",
    "import matplotlib\n",
    "import matplotlib.pyplot as plt\n",
    "from tqdm import tqdm\n",
    "from driver import recorder\n",
    "matplotlib.rcParams['figure.figsize'] = (10, 10)\n",
    "%matplotlib inline"
   ]
  },
  {
   "cell_type": "code",
   "execution_count": 2,
   "id": "da7afa40",
   "metadata": {},
   "outputs": [],
   "source": [
    "# bias_capture_movement = \"models/chunli.state_True_True/best_model.zip\"\n",
    "# bias_no_capture_movement = \"models/chunli.state_True_False/best_model.zip\"\n",
    "# no_bias_capture_movement = \"models/chunli.state_False_True/best_model.zip\"\n",
    "# no_bias_no_capture_movement = \"models/chunli.state_False_False/best_model.zip\""
   ]
  },
  {
   "cell_type": "code",
   "execution_count": 3,
   "id": "33bce196",
   "metadata": {},
   "outputs": [],
   "source": [
    "bias_capture_movement1 = \"experiments/final_models/biased_capture_movement/A2C_CHUNLI.zip\"\n",
    "bias_no_capture_movement1 = \"experiments/final_models/biased_no_capture_movement/A2C_CHUNLI.zip\"\n",
    "no_bias_capture_movement1 = \"experiments/final_models/unbiased_capture_movement/A2C_CHUNLI.zip\"\n",
    "no_bias_no_capture_movement1 = \"experiments/final_models/unbiased_no_capture_movement/A2C_CHUNLI.zip\""
   ]
  },
  {
   "cell_type": "code",
   "execution_count": 4,
   "id": "e8536892",
   "metadata": {},
   "outputs": [],
   "source": [
    "rewards = []"
   ]
  },
  {
   "cell_type": "markdown",
   "id": "7905b231",
   "metadata": {},
   "source": [
    "# MODEL WITH ATTENTION"
   ]
  },
  {
   "cell_type": "code",
   "execution_count": 5,
   "id": "462b58f4",
   "metadata": {},
   "outputs": [
    {
     "name": "stdout",
     "output_type": "stream",
     "text": [
      "model_path: experiments/final_models/biased_capture_movement/A2C_CHUNLI.zip, capture_movement: True, state: chunli.state, model_name: A2C, render: False, record_dir: /tmp/record\n",
      "iterations:  4350\n",
      "total reward:  34377.0\n"
     ]
    },
    {
     "data": {
      "text/plain": [
       "34377.0"
      ]
     },
     "execution_count": 5,
     "metadata": {},
     "output_type": "execute_result"
    }
   ],
   "source": [
    "reward = recorder(model_path=bias_capture_movement1, capture_movement=True, state='chunli.state', \n",
    "         model_name=\"A2C\", render=False, record_dir='/tmp/record')\n",
    "rewards.append(reward)\n",
    "reward"
   ]
  },
  {
   "cell_type": "markdown",
   "id": "872ec97b",
   "metadata": {},
   "source": [
    "# MODEL WITH ATTENTION WITHOUT MOVEMENT"
   ]
  },
  {
   "cell_type": "code",
   "execution_count": 6,
   "id": "8a34b075",
   "metadata": {},
   "outputs": [
    {
     "name": "stdout",
     "output_type": "stream",
     "text": [
      "model_path: experiments/final_models/biased_no_capture_movement/A2C_CHUNLI.zip, capture_movement: False, state: chunli.state, model_name: A2C, render: False, record_dir: /tmp/record\n",
      "iterations:  5211\n",
      "total reward:  32392.0\n"
     ]
    },
    {
     "data": {
      "text/plain": [
       "32392.0"
      ]
     },
     "execution_count": 6,
     "metadata": {},
     "output_type": "execute_result"
    }
   ],
   "source": [
    "reward = recorder(model_path=bias_no_capture_movement1, capture_movement=False, state='chunli.state', \n",
    "         model_name=\"A2C\", render=False, record_dir='/tmp/record')\n",
    "rewards.append(reward)\n",
    "reward"
   ]
  },
  {
   "cell_type": "markdown",
   "id": "6416119b",
   "metadata": {},
   "source": [
    "# MODEL WITHOUT ATTENTION WITH MOVEMENT"
   ]
  },
  {
   "cell_type": "code",
   "execution_count": 7,
   "id": "8393e859",
   "metadata": {},
   "outputs": [
    {
     "name": "stdout",
     "output_type": "stream",
     "text": [
      "model_path: experiments/final_models/unbiased_capture_movement/A2C_CHUNLI.zip, capture_movement: True, state: chunli.state, model_name: A2C, render: False, record_dir: /tmp/record\n",
      "iterations:  7670\n",
      "total reward:  29032.0\n"
     ]
    },
    {
     "data": {
      "text/plain": [
       "29032.0"
      ]
     },
     "execution_count": 7,
     "metadata": {},
     "output_type": "execute_result"
    }
   ],
   "source": [
    "reward = recorder(model_path=no_bias_capture_movement1, capture_movement=True, state='chunli.state', \n",
    "         model_name=\"A2C\", render=False, record_dir='/tmp/record')\n",
    "rewards.append(reward)\n",
    "reward"
   ]
  },
  {
   "cell_type": "markdown",
   "id": "e8445333",
   "metadata": {},
   "source": [
    "# MODEL WITHOUT ATTENTION WITHOUT MOVEMENT"
   ]
  },
  {
   "cell_type": "code",
   "execution_count": 8,
   "id": "509e3862",
   "metadata": {},
   "outputs": [
    {
     "name": "stdout",
     "output_type": "stream",
     "text": [
      "model_path: experiments/final_models/unbiased_no_capture_movement/A2C_CHUNLI.zip, capture_movement: False, state: chunli.state, model_name: A2C, render: False, record_dir: /tmp/record\n",
      "iterations:  6320\n",
      "total reward:  17023.0\n"
     ]
    },
    {
     "data": {
      "text/plain": [
       "17023.0"
      ]
     },
     "execution_count": 8,
     "metadata": {},
     "output_type": "execute_result"
    }
   ],
   "source": [
    "reward = recorder(model_path=no_bias_no_capture_movement1,  capture_movement=False, state='chunli.state', \n",
    "         model_name=\"A2C\", render=False, record_dir='/tmp/record')\n",
    "rewards.append(reward)\n",
    "reward"
   ]
  },
  {
   "cell_type": "code",
   "execution_count": 9,
   "id": "c9954f3d",
   "metadata": {},
   "outputs": [
    {
     "data": {
      "text/plain": [
       "[34377.0, 32392.0, 29032.0, 17023.0]"
      ]
     },
     "execution_count": 9,
     "metadata": {},
     "output_type": "execute_result"
    }
   ],
   "source": [
    "rewards"
   ]
  },
  {
   "cell_type": "code",
   "execution_count": 10,
   "id": "5b4d3b3f",
   "metadata": {},
   "outputs": [
    {
     "data": {
      "text/plain": [
       "([0, 1, 2, 3],\n",
       " [Text(0, 0, ''), Text(0, 0, ''), Text(0, 0, ''), Text(0, 0, '')])"
      ]
     },
     "execution_count": 10,
     "metadata": {},
     "output_type": "execute_result"
    },
    {
     "data": {
      "image/png": "[encoded data removed]",
      "text/plain": [
       "<Figure size 432x288 with 1 Axes>"
      ]
     },
     "metadata": {
      "needs_background": "light"
     },
     "output_type": "display_data"
    }
   ],
   "source": [
    "fig, ax = plt.subplots()\n",
    "ax.bar(['attention_movement', 'attention_scene', 'cnn_movement', 'cnn_scene'], rewards)\n",
    "plt.xticks(rotation=30)"
   ]
  },
  {
   "cell_type": "code",
   "execution_count": null,
   "id": "f6ec107a",
   "metadata": {},
   "outputs": [],
   "source": []
  }
 ],
 "metadata": {
  "kernelspec": {
   "display_name": "Python 3",
   "language": "python",
   "name": "python3"
  },
  "language_info": {
   "codemirror_mode": {
    "name": "ipython",
    "version": 3
   },
   "file_extension": ".py",
   "mimetype": "text/x-python",
   "name": "python",
   "nbconvert_exporter": "python",
   "pygments_lexer": "ipython3",
   "version": "3.8.10"
  }
 },
 "nbformat": 4,
 "nbformat_minor": 5
}
