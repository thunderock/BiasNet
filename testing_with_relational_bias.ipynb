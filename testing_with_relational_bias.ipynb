{
 "cells": [
  {
   "cell_type": "code",
   "execution_count": 1,
   "id": "b8f06220",
   "metadata": {},
   "outputs": [],
   "source": [
    "from constants import *\n",
    "from utils import evaluate_model_policy, plot_study, plot_fig\n",
    "from trainer import get_trained_model\n",
    "import optuna\n",
    "from environment import StreetFighterEnv\n",
    "from stable_baselines3 import PPO, A2C\n",
    "from stable_baselines3.common.monitor import Monitor\n",
    "from stable_baselines3.common.vec_env import DummyVecEnv, VecFrameStack\n",
    "from actor_critic import A2CCNNPolicy\n",
    "from feature_extractors import CNNExtractorWithAttention, CNNExtractor\n",
    "from tuner import Tuner\n",
    "import os\n",
    "from layers import ActorCriticLayer"
   ]
  },
  {
   "cell_type": "markdown",
   "id": "85f50884",
   "metadata": {
    "pycharm": {
     "name": "#%% md\n"
    }
   },
   "source": [
    "# ORIGINAL IMAGE"
   ]
  },
  {
   "cell_type": "code",
   "execution_count": 2,
   "id": "488d21a1",
   "metadata": {},
   "outputs": [],
   "source": [
    "TIMESTEPS = 5000000\n",
    "N_TRIALS = 5\n",
    "\n",
    "PLOTLY_CONFIG = {\"staticPlot\": True}\n"
   ]
  },
  {
   "cell_type": "code",
   "execution_count": null,
   "id": "2961cd6e",
   "metadata": {},
   "outputs": [
    {
     "name": "stderr",
     "output_type": "stream",
     "text": [
      "Failed to detect the name of this notebook, you can set it manually with the WANDB_NOTEBOOK_NAME environment variable to enable code saving.\n",
      "\u001b[34m\u001b[1mwandb\u001b[0m: Currently logged in as: \u001b[33mashutosht\u001b[0m (use `wandb login --relogin` to force relogin)\n",
      "\u001b[34m\u001b[1mwandb\u001b[0m: wandb version 0.12.14 is available!  To upgrade, please run:\n",
      "\u001b[34m\u001b[1mwandb\u001b[0m:  $ pip install wandb --upgrade\n"
     ]
    },
    {
     "data": {
      "text/html": [
       "\n",
       "                    Syncing run <strong><a href=\"https://wandb.ai/ashutosht/study_bias/runs/12kbs1dw\" target=\"_blank\">fancy-wave-1</a></strong> to <a href=\"https://wandb.ai/ashutosht/study_bias\" target=\"_blank\">Weights & Biases</a> (<a href=\"https://docs.wandb.com/integrations/jupyter.html\" target=\"_blank\">docs</a>).<br/>\n",
       "\n",
       "                "
      ],
      "text/plain": [
       "<IPython.core.display.HTML object>"
      ]
     },
     "metadata": {},
     "output_type": "display_data"
    },
    {
     "name": "stderr",
     "output_type": "stream",
     "text": [
      "\u001b[32m[I 2022-04-19 01:41:48,548]\u001b[0m A new study created in RDB with name: study_bias\u001b[0m\n"
     ]
    },
    {
     "data": {
      "application/vnd.jupyter.widget-view+json": {
       "model_id": "b94556cce0204eddbc427b3b26cffd96",
       "version_major": 2,
       "version_minor": 0
      },
      "text/plain": [
       "  0%|          | 0/5 [00:00<?, ?it/s]"
      ]
     },
     "metadata": {},
     "output_type": "display_data"
    }
   ],
   "source": [
    "\n",
    "model = A2C\n",
    "model_dir = 'models/bias'\n",
    "env = StreetFighterEnv(capture_movement=False, training=True)\n",
    "policy_network = A2CCNNPolicy\n",
    "\n",
    "policy_kwargs = dict(\n",
    "    features_extractor_class=CNNExtractorWithAttention,\n",
    "    features_extractor_kwargs=dict(features_dim=512,),\n",
    "    actor_critic_class=ActorCriticLayer\n",
    ")\n",
    "tuner = Tuner(model=model, env=env, policy_network=policy_network, policy_args=policy_kwargs,\n",
    "              timesteps=TIMESTEPS, save_dir=model_dir)\n",
    "\n",
    "study, (study_name, study_location) = tuner.tune_study(n_trials=N_TRIALS, study_name=\"study_bias\")"
   ]
  },
  {
   "cell_type": "code",
   "execution_count": null,
   "id": "fefa0424",
   "metadata": {},
   "outputs": [],
   "source": [
    "plots = plot_study(study)\n",
    "for plot in plots:\n",
    "    plot.show(\"notebook\", config=PLOTLY_CONFIG)"
   ]
  },
  {
   "cell_type": "markdown",
   "id": "2d65510b",
   "metadata": {
    "pycharm": {
     "name": "#%% md\n"
    }
   },
   "source": [
    "# FRAME DIFF"
   ]
  },
  {
   "cell_type": "code",
   "execution_count": null,
   "id": "0392def6",
   "metadata": {
    "pycharm": {
     "name": "#%%\n"
    }
   },
   "outputs": [],
   "source": [
    "\n",
    "model = A2C\n",
    "model_dir = 'models/bias_with_movement'\n",
    "env = StreetFighterEnv(capture_movement=True, training=True)\n",
    "policy_network = A2CCNNPolicy\n",
    "\n",
    "policy_kwargs = dict(\n",
    "    features_extractor_class=CNNExtractorWithAttention,\n",
    "    features_extractor_kwargs=dict(features_dim=512,),\n",
    "    actor_critic_class=ActorCriticLayer\n",
    ")\n",
    "tuner = Tuner(model=model, env=env, policy_network=policy_network, policy_args=policy_kwargs,\n",
    "              timesteps=TIMESTEPS, save_dir=model_dir)\n",
    "\n",
    "study, (study_name, study_location) = tuner.tune_study(n_trials=N_TRIALS, study_name=\"study_bias_with_movement\")\n"
   ]
  },
  {
   "cell_type": "code",
   "execution_count": null,
   "id": "33cd4204",
   "metadata": {
    "pycharm": {
     "name": "#%%\n"
    }
   },
   "outputs": [],
   "source": [
    "plots = plot_study(study)\n",
    "for plot in plots:\n",
    "    plot.show(\"notebook\", config=PLOTLY_CONFIG)"
   ]
  }
 ],
 "metadata": {
  "kernelspec": {
   "display_name": "Python 3",
   "language": "python",
   "name": "python3"
  },
  "language_info": {
   "codemirror_mode": {
    "name": "ipython",
    "version": 3
   },
   "file_extension": ".py",
   "mimetype": "text/x-python",
   "name": "python",
   "nbconvert_exporter": "python",
   "pygments_lexer": "ipython3",
   "version": "3.8.8"
  }
 },
 "nbformat": 4,
 "nbformat_minor": 5
}
