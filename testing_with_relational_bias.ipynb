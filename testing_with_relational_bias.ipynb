{
 "cells": [
  {
   "cell_type": "code",
   "execution_count": 1,
   "id": "b8f06220",
   "metadata": {},
   "outputs": [],
   "source": [
    "from constants import *\n",
    "from utils import evaluate_model_policy, plot_study, plot_fig\n",
    "from trainer import get_trained_model\n",
    "import optuna\n",
    "from environment import StreetFighterEnv\n",
    "from stable_baselines3 import PPO, A2C\n",
    "from stable_baselines3.common.monitor import Monitor\n",
    "from stable_baselines3.common.vec_env import DummyVecEnv, VecFrameStack\n",
    "from actor_critic import A2CCNNPolicy\n",
    "from feature_extractors import CNNExtractorWithAttention, CNNExtractor\n",
    "from tuner import Tuner\n",
    "import os"
   ]
  },
  {
   "cell_type": "markdown",
   "source": [
    "# FRAME SIZE = 4"
   ],
   "metadata": {
    "collapsed": false,
    "pycharm": {
     "name": "#%% md\n"
    }
   }
  },
  {
   "cell_type": "code",
   "execution_count": 2,
   "id": "488d21a1",
   "metadata": {},
   "outputs": [],
   "source": [
    "TIMESTEPS = 1000000\n",
    "N_TRIALS = 20\n",
    "FRAME_SIZE = 4\n",
    "\n",
    "PLOTLY_CONFIG = {\"staticPlot\": True}"
   ]
  },
  {
   "cell_type": "code",
   "execution_count": null,
   "id": "2961cd6e",
   "metadata": {},
   "outputs": [
    {
     "name": "stderr",
     "output_type": "stream",
     "text": [
      "\u001B[32m[I 2022-04-17 03:36:48,005]\u001B[0m A new study created in memory with name: no-name-df1e9e8e-86fe-49cf-9951-ce748b73be72\u001B[0m\n"
     ]
    },
    {
     "data": {
      "application/vnd.jupyter.widget-view+json": {
       "model_id": "9d615f37312a4cf0ac3bf5c556c05175",
       "version_major": 2,
       "version_minor": 0
      },
      "text/plain": [
       "  0%|          | 0/20 [00:00<?, ?it/s]"
      ]
     },
     "metadata": {},
     "output_type": "display_data"
    },
    {
     "name": "stdout",
     "output_type": "stream",
     "text": [
      "\u001B[32m[I 2022-04-17 04:46:08,417]\u001B[0m Trial 0 finished with value: 0.0 and parameters: {'gamma': 0.9610590868182427, 'learning_rate': 1.2730024504817727e-05, 'gae_lambda': 0.8358271893298}. Best is trial 0 with value: 0.0.\u001B[0m\n",
      "\u001B[32m[I 2022-04-17 05:54:32,048]\u001B[0m Trial 1 finished with value: 6800.0 and parameters: {'gamma': 0.9892997854860126, 'learning_rate': 7.189161693024792e-05, 'gae_lambda': 0.9514619233779469}. Best is trial 1 with value: 6800.0.\u001B[0m\n",
      "\u001B[32m[I 2022-04-17 07:00:54,050]\u001B[0m Trial 2 finished with value: 1000.0 and parameters: {'gamma': 0.9608380585220108, 'learning_rate': 2.9617795121505266e-05, 'gae_lambda': 0.9096156803402182}. Best is trial 1 with value: 6800.0.\u001B[0m\n",
      "\u001B[32m[I 2022-04-17 08:06:12,491]\u001B[0m Trial 3 finished with value: 2000.0 and parameters: {'gamma': 0.9659929325597487, 'learning_rate': 5.07384069776803e-05, 'gae_lambda': 0.9083976132228462}. Best is trial 1 with value: 6800.0.\u001B[0m\n",
      "\u001B[32m[I 2022-04-17 09:12:13,210]\u001B[0m Trial 4 finished with value: 2000.0 and parameters: {'gamma': 0.9806522018996316, 'learning_rate': 2.532607299443791e-05, 'gae_lambda': 0.8011730618441996}. Best is trial 1 with value: 6800.0.\u001B[0m\n",
      "\u001B[32m[I 2022-04-17 10:17:11,437]\u001B[0m Trial 5 finished with value: 1000.0 and parameters: {'gamma': 0.8334395434755734, 'learning_rate': 1.1491324418781919e-05, 'gae_lambda': 0.8849613441040012}. Best is trial 1 with value: 6800.0.\u001B[0m\n",
      "\u001B[32m[I 2022-04-17 11:23:19,223]\u001B[0m Trial 6 finished with value: 0.0 and parameters: {'gamma': 0.9476073276892041, 'learning_rate': 2.2241517649589886e-05, 'gae_lambda': 0.8593360149874191}. Best is trial 1 with value: 6800.0.\u001B[0m\n",
      "\u001B[32m[I 2022-04-17 12:29:23,242]\u001B[0m Trial 7 finished with value: 2000.0 and parameters: {'gamma': 0.8552746279866393, 'learning_rate': 7.989575189343696e-05, 'gae_lambda': 0.9639493897451337}. Best is trial 1 with value: 6800.0.\u001B[0m\n",
      "\u001B[32m[I 2022-04-17 13:35:13,489]\u001B[0m Trial 8 finished with value: 2000.0 and parameters: {'gamma': 0.9736084575201707, 'learning_rate': 9.079381496398319e-05, 'gae_lambda': 0.9169786978771072}. Best is trial 1 with value: 6800.0.\u001B[0m\n",
      "\u001B[32m[I 2022-04-17 14:40:56,119]\u001B[0m Trial 9 finished with value: 2000.0 and parameters: {'gamma': 0.9648384457455721, 'learning_rate': 2.3495224339469515e-05, 'gae_lambda': 0.8328092883258205}. Best is trial 1 with value: 6800.0.\u001B[0m\n"
     ]
    }
   ],
   "source": [
    "model = A2C\n",
    "model_dir = 'models/with_bias_frame_4'\n",
    "env = StreetFighterEnv()\n",
    "policy_network = A2CCNNPolicy\n",
    "\n",
    "policy_kwargs = dict(\n",
    "    features_extractor_class=CNNExtractorWithAttention,\n",
    "    features_extractor_kwargs=dict(frame_size=FRAME_SIZE, features_dim=512,),\n",
    ")\n",
    "tuner = Tuner(model=model, env=env, policy_network=policy_network, policy_args=policy_kwargs,\n",
    "              frame_size=FRAME_SIZE, timesteps=TIMESTEPS, save_dir=model_dir)\n",
    "\n",
    "study = tuner.tune_study(n_trials=N_TRIALS, )\n",
    "study.best_trial.number, study.best_params"
   ]
  },
  {
   "cell_type": "code",
   "execution_count": null,
   "id": "fefa0424",
   "metadata": {},
   "outputs": [],
   "source": [
    "plots = plot_study(study)\n",
    "for plot in plots:\n",
    "    plot.show(\"notebook\", config=PLOTLY_CONFIG)"
   ]
  },
  {
   "cell_type": "markdown",
   "source": [
    "# FRAME SIZE = 1"
   ],
   "metadata": {
    "collapsed": false,
    "pycharm": {
     "name": "#%% md\n"
    }
   }
  },
  {
   "cell_type": "code",
   "execution_count": null,
   "outputs": [],
   "source": [
    "FRAME_SIZE = 1"
   ],
   "metadata": {
    "collapsed": false,
    "pycharm": {
     "name": "#%%\n"
    }
   }
  },
  {
   "cell_type": "code",
   "execution_count": null,
   "outputs": [],
   "source": [
    "model = A2C\n",
    "model_dir = 'models/with_bias_frame_1'\n",
    "env = StreetFighterEnv()\n",
    "policy_network = A2CCNNPolicy\n",
    "\n",
    "policy_kwargs = dict(\n",
    "    features_extractor_class=CNNExtractorWithAttention,\n",
    "    features_extractor_kwargs=dict(frame_size=FRAME_SIZE, features_dim=512,),\n",
    ")\n",
    "tuner = Tuner(model=model, env=env, policy_network=policy_network, policy_args=policy_kwargs,\n",
    "              frame_size=FRAME_SIZE, timesteps=TIMESTEPS, save_dir=model_dir)\n",
    "\n",
    "study = tuner.tune_study(n_trials=N_TRIALS, )\n",
    "study.best_trial.number, study.best_params"
   ],
   "metadata": {
    "collapsed": false,
    "pycharm": {
     "name": "#%%\n"
    }
   }
  },
  {
   "cell_type": "code",
   "execution_count": null,
   "outputs": [],
   "source": [
    "plots = plot_study(study)\n",
    "for plot in plots:\n",
    "    plot.show(\"notebook\", config=PLOTLY_CONFIG)"
   ],
   "metadata": {
    "collapsed": false,
    "pycharm": {
     "name": "#%%\n"
    }
   }
  }
 ],
 "metadata": {
  "kernelspec": {
   "display_name": "Python 3",
   "language": "python",
   "name": "python3"
  },
  "language_info": {
   "codemirror_mode": {
    "name": "ipython",
    "version": 3
   },
   "file_extension": ".py",
   "mimetype": "text/x-python",
   "name": "python",
   "nbconvert_exporter": "python",
   "pygments_lexer": "ipython3",
   "version": "3.8.10"
  }
 },
 "nbformat": 4,
 "nbformat_minor": 5
}