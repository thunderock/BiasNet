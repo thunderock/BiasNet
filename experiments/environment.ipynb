{
 "cells": [
  {
   "cell_type": "code",
   "execution_count": 1,
   "metadata": {
    "pycharm": {
     "name": "#%%\n"
    }
   },
   "outputs": [],
   "source": [
    "import numpy as np\n",
    "import pandas as pd\n",
    "import retro\n",
    "from gym import Env\n",
    "from gym.spaces import MultiBinary, Box\n",
    "import optuna\n",
    "from stable_baselines3 import PPO\n",
    "from stable_baselines3.common.evaluation import evaluate_policy\n",
    "from stable_baselines3.common.monitor import Monitor\n",
    "from stable_baselines3.common.vec_env import DummyVecEnv, VecFrameStack\n",
    "import cv2\n",
    "import matplotlib.pyplot as plt\n",
    "import os\n",
    "import time\n",
    "import retrowrapper\n",
    "\n",
    "! rm -rf logs opt train train_logs\n",
    "! mkdir logs opt train train_logs"
   ]
  },
  {
   "cell_type": "code",
   "execution_count": 2,
   "metadata": {
    "pycharm": {
     "name": "#%%\n"
    }
   },
   "outputs": [
    {
     "name": "stdout",
     "output_type": "stream",
     "text": [
      ".:\r\n",
      "environment.ipynb  logs  opt  train  train_logs\r\n",
      "\r\n",
      "./logs:\r\n",
      "\r\n",
      "./opt:\r\n",
      "\r\n",
      "./train:\r\n",
      "\r\n",
      "./train_logs:\r\n"
     ]
    }
   ],
   "source": [
    "! ls -R"
   ]
  },
  {
   "cell_type": "code",
   "execution_count": 3,
   "metadata": {
    "pycharm": {
     "name": "#%%\n"
    }
   },
   "outputs": [],
   "source": [
    "# env.observation_space.shape"
   ]
  },
  {
   "cell_type": "code",
   "execution_count": 4,
   "metadata": {
    "pycharm": {
     "name": "#%%\n"
    }
   },
   "outputs": [],
   "source": [
    "# env.action_space"
   ]
  },
  {
   "cell_type": "code",
   "execution_count": 5,
   "metadata": {
    "pycharm": {
     "name": "#%%\n"
    }
   },
   "outputs": [],
   "source": [
    "# info"
   ]
  },
  {
   "cell_type": "code",
   "execution_count": 6,
   "metadata": {
    "pycharm": {
     "name": "#%%\n"
    }
   },
   "outputs": [],
   "source": [
    "class StreetFighter(Env):\n",
    "    def __init__(self):\n",
    "        super().__init__()\n",
    "        self.observation_space = Box(low=0, high=255, shape=(84, 84, 1), dtype=np.uint8)\n",
    "        self.action_space = MultiBinary(12)\n",
    "        self.game = retro.make(game='StreetFighterIISpecialChampionEdition-Genesis',\n",
    "                               record='./logs/',\n",
    "#                                state=sts[0],\n",
    "                               use_restricted_actions=retro.Actions.FILTERED,\n",
    "#                               scenario='scenario'\n",
    "                              )\n",
    "\n",
    "    def get_reward(self, info, reward=None): return info['score'] - self.score\n",
    "\n",
    "    def step(self, action):\n",
    "        obs, reward, done, info = self.game.step(action)\n",
    "        obs = self.preprocess(obs)\n",
    "        frame_delta = obs - self.previous_frame\n",
    "        self.previous_frame = obs\n",
    "        reward = self.get_reward(info)\n",
    "        self.score = info['score']\n",
    "        return frame_delta, reward, done, info\n",
    "\n",
    "    def render(self, *args, **kwargs):\n",
    "        self.game.render(*args, **kwargs)\n",
    "\n",
    "    def reset(self):\n",
    "        obs = self.game.reset()\n",
    "        obs = self.preprocess(obs)\n",
    "        self.previous_frame = obs\n",
    "        self.score = 0\n",
    "        return obs\n",
    "\n",
    "    def close(self):\n",
    "        self.game.close()\n",
    "\n",
    "    def preprocess(self, obs):\n",
    "        gray = cv2.cvtColor(obs, cv2.COLOR_BGR2GRAY)\n",
    "        resized = cv2.resize(gray, (84, 84), interpolation=cv2.INTER_CUBIC)\n",
    "        return np.reshape(resized, (84, 84, 1))"
   ]
  },
  {
   "cell_type": "code",
   "execution_count": 7,
   "metadata": {
    "pycharm": {
     "name": "#%%\n"
    }
   },
   "outputs": [],
   "source": [
    "# env = StreetFighter()"
   ]
  },
  {
   "cell_type": "code",
   "execution_count": 8,
   "metadata": {
    "pycharm": {
     "name": "#%%\n"
    }
   },
   "outputs": [],
   "source": [
    "# obs = env.reset()\n",
    "# done = False\n",
    "# for game in range(1):\n",
    "#     # one game\n",
    "#     while not done:\n",
    "#         action = env.action_space.sample()\n",
    "#         # env.render()\n",
    "#         obs, reward, done, info = env.step(action)\n",
    "#         # time.sleep(0.01)\n",
    "#         if reward: print(reward)\n",
    "# env.close()"
   ]
  },
  {
   "cell_type": "code",
   "execution_count": 9,
   "metadata": {
    "pycharm": {
     "name": "#%%\n"
    }
   },
   "outputs": [],
   "source": [
    "# obs = env.reset()\n"
   ]
  },
  {
   "cell_type": "code",
   "execution_count": 10,
   "metadata": {
    "pycharm": {
     "name": "#%%\n"
    }
   },
   "outputs": [],
   "source": [
    "# obs, reward, done, info = env.step(env.action_space.sample())\n",
    "# plt.imshow(obs)"
   ]
  },
  {
   "cell_type": "code",
   "execution_count": 11,
   "metadata": {
    "pycharm": {
     "name": "#%%\n"
    }
   },
   "outputs": [],
   "source": [
    "LOG_DIR = './logs/'\n",
    "OPT_DIR = './opt/'"
   ]
  },
  {
   "cell_type": "code",
   "execution_count": 12,
   "metadata": {
    "pycharm": {
     "name": "#%%\n"
    }
   },
   "outputs": [],
   "source": [
    "def optimize_ppo(trial):\n",
    "    return {\n",
    "        'n_steps':trial.suggest_int('n_steps', 2048, 8192),\n",
    "        'gamma':trial.suggest_loguniform('gamma', 0.8, 0.9999),\n",
    "        'learning_rate':trial.suggest_loguniform('learning_rate', 1e-5, 1e-4),\n",
    "        'clip_range':trial.suggest_uniform('clip_range', 0.1, 0.4),\n",
    "        'gae_lambda':trial.suggest_uniform('gae_lambda', 0.8, 0.99)\n",
    "    }"
   ]
  },
  {
   "cell_type": "code",
   "execution_count": 13,
   "metadata": {
    "pycharm": {
     "name": "#%%\n"
    }
   },
   "outputs": [],
   "source": [
    "SAVE_PATH = os.path.join(OPT_DIR, 'trial_{}_best_model'.format(1))"
   ]
  },
  {
   "cell_type": "code",
   "execution_count": 14,
   "metadata": {
    "pycharm": {
     "name": "#%%\n"
    }
   },
   "outputs": [],
   "source": [
    "\n",
    "def optimize_agent(trial):\n",
    "    # try:\n",
    "    model_params = optimize_ppo(trial)\n",
    "\n",
    "    # Create environment\n",
    "    env = StreetFighter()\n",
    "    env = Monitor(env, LOG_DIR)\n",
    "    env = DummyVecEnv([lambda: env])\n",
    "    env = VecFrameStack(env, 4, channels_order='last')\n",
    "\n",
    "    # Create algo\n",
    "    model = PPO('CnnPolicy', env, tensorboard_log=LOG_DIR, verbose=0, **model_params)\n",
    "    model.learn(total_timesteps=30000)\n",
    "    #model.learn(total_timesteps=100000)\n",
    "\n",
    "    # Evaluate model\n",
    "    mean_reward, _ = evaluate_policy(model, env, n_eval_episodes=5)\n",
    "    env.close()\n",
    "\n",
    "    SAVE_PATH = os.path.join(OPT_DIR, 'trial_{}_best_model'.format(trial.number))\n",
    "    model.save(SAVE_PATH)\n",
    "\n",
    "    return mean_reward\n",
    "\n",
    "    # except Exception as e:\n",
    "    #     return -1000"
   ]
  },
  {
   "cell_type": "code",
   "execution_count": 15,
   "metadata": {
    "pycharm": {
     "name": "#%%\n"
    }
   },
   "outputs": [
    {
     "name": "stderr",
     "output_type": "stream",
     "text": [
      "\u001b[32m[I 2022-04-09 02:08:29,258]\u001b[0m A new study created in memory with name: no-name-856e7a56-ae1f-4911-bcd8-9852a9b17b89\u001b[0m\n",
      "/home/ashutosh/anaconda3/lib/python3.8/site-packages/stable_baselines3/ppo/ppo.py:137: UserWarning: You have specified a mini-batch size of 64, but because the `RolloutBuffer` is of size `n_steps * n_envs = 2866`, after every 44 untruncated mini-batches, there will be a truncated mini-batch of size 50\n",
      "We recommend using a `batch_size` that is a factor of `n_steps * n_envs`.\n",
      "Info: (n_steps=2866 and n_envs=1)\n",
      "  warnings.warn(\n",
      "\u001b[32m[I 2022-04-09 02:10:23,713]\u001b[0m Trial 0 finished with value: 2200.0 and parameters: {'n_steps': 2866, 'gamma': 0.8128228093092051, 'learning_rate': 3.537559798600158e-05, 'clip_range': 0.331356631668137, 'gae_lambda': 0.852846746915222}. Best is trial 0 with value: 2200.0.\u001b[0m\n"
     ]
    }
   ],
   "source": [
    "study = optuna.create_study(direction='maximize')\n",
    "study.optimize(optimize_agent, n_trials=1, n_jobs=1)"
   ]
  },
  {
   "cell_type": "code",
   "execution_count": 16,
   "metadata": {
    "pycharm": {
     "name": "#%%\n"
    }
   },
   "outputs": [
    {
     "data": {
      "text/plain": [
       "{'n_steps': 2866,\n",
       " 'gamma': 0.8128228093092051,\n",
       " 'learning_rate': 3.537559798600158e-05,\n",
       " 'clip_range': 0.331356631668137,\n",
       " 'gae_lambda': 0.852846746915222}"
      ]
     },
     "execution_count": 16,
     "metadata": {},
     "output_type": "execute_result"
    }
   ],
   "source": [
    "study.best_params"
   ]
  },
  {
   "cell_type": "code",
   "execution_count": 17,
   "metadata": {
    "pycharm": {
     "name": "#%%\n"
    }
   },
   "outputs": [
    {
     "data": {
      "text/plain": [
       "FrozenTrial(number=0, values=[2200.0], datetime_start=datetime.datetime(2022, 4, 9, 2, 8, 29, 260304), datetime_complete=datetime.datetime(2022, 4, 9, 2, 10, 23, 713144), params={'n_steps': 2866, 'gamma': 0.8128228093092051, 'learning_rate': 3.537559798600158e-05, 'clip_range': 0.331356631668137, 'gae_lambda': 0.852846746915222}, distributions={'n_steps': IntUniformDistribution(high=8192, low=2048, step=1), 'gamma': LogUniformDistribution(high=0.9999, low=0.8), 'learning_rate': LogUniformDistribution(high=0.0001, low=1e-05), 'clip_range': UniformDistribution(high=0.4, low=0.1), 'gae_lambda': UniformDistribution(high=0.99, low=0.8)}, user_attrs={}, system_attrs={}, intermediate_values={}, trial_id=0, state=TrialState.COMPLETE, value=None)"
      ]
     },
     "execution_count": 17,
     "metadata": {},
     "output_type": "execute_result"
    }
   ],
   "source": [
    "study.best_trial"
   ]
  },
  {
   "cell_type": "code",
   "execution_count": 18,
   "metadata": {
    "pycharm": {
     "name": "#%%\n"
    }
   },
   "outputs": [
    {
     "data": {
      "text/plain": [
       "0"
      ]
     },
     "execution_count": 18,
     "metadata": {},
     "output_type": "execute_result"
    }
   ],
   "source": [
    "study.best_trial.number"
   ]
  },
  {
   "cell_type": "code",
   "execution_count": 19,
   "metadata": {
    "pycharm": {
     "name": "#%%\n"
    }
   },
   "outputs": [
    {
     "name": "stdout",
     "output_type": "stream",
     "text": [
      "./opt/trial_0_best_model.zip\n"
     ]
    }
   ],
   "source": [
    "path = os.path.join(OPT_DIR, 'trial_{}_best_model.zip'.format(study.best_trial.number))\n",
    "print(path)\n",
    "model = PPO.load(path)"
   ]
  },
  {
   "cell_type": "code",
   "execution_count": 20,
   "metadata": {
    "pycharm": {
     "name": "#%%\n"
    }
   },
   "outputs": [],
   "source": [
    "from stable_baselines3.common.callbacks import BaseCallback"
   ]
  },
  {
   "cell_type": "code",
   "execution_count": 21,
   "metadata": {
    "pycharm": {
     "name": "#%%\n"
    }
   },
   "outputs": [],
   "source": [
    "class TrainAndLoggingCallback(BaseCallback):\n",
    "\n",
    "    def __init__(self, check_freq, save_path, verbose=1):\n",
    "        super(TrainAndLoggingCallback, self).__init__(verbose)\n",
    "        self.check_freq = check_freq\n",
    "        self.save_path = save_path\n",
    "\n",
    "    def _init_callback(self):\n",
    "        if self.save_path is not None:\n",
    "            os.makedirs(self.save_path, exist_ok=True)\n",
    "\n",
    "    def _on_step(self):\n",
    "        if self.n_calls % self.check_freq == 0:\n",
    "            model_path = os.path.join(self.save_path, 'best_model_{}'.format(self.n_calls))\n",
    "            self.model.save(model_path)\n",
    "\n",
    "        return True"
   ]
  },
  {
   "cell_type": "code",
   "execution_count": 22,
   "metadata": {
    "pycharm": {
     "name": "#%%\n"
    }
   },
   "outputs": [],
   "source": [
    "CHECKPOINT_DIR = './train/'\n",
    "TRAIN_LOG_DIR = './train_logs/'\n",
    "callback = TrainAndLoggingCallback(check_freq=10000, save_path=CHECKPOINT_DIR)"
   ]
  },
  {
   "cell_type": "code",
   "execution_count": 23,
   "metadata": {
    "pycharm": {
     "name": "#%%\n"
    }
   },
   "outputs": [],
   "source": [
    "\n",
    "env = StreetFighter()\n",
    "env = Monitor(env, LOG_DIR)\n",
    "env = DummyVecEnv([lambda: env])\n",
    "env = VecFrameStack(env, 4, channels_order='last')"
   ]
  },
  {
   "cell_type": "code",
   "execution_count": 24,
   "metadata": {
    "pycharm": {
     "name": "#%%\n"
    }
   },
   "outputs": [
    {
     "data": {
      "text/plain": [
       "{'n_steps': 7488,\n",
       " 'gamma': 0.8128228093092051,\n",
       " 'learning_rate': 3.537559798600158e-05,\n",
       " 'clip_range': 0.331356631668137,\n",
       " 'gae_lambda': 0.852846746915222}"
      ]
     },
     "execution_count": 24,
     "metadata": {},
     "output_type": "execute_result"
    }
   ],
   "source": [
    "model_params = study.best_params\n",
    "model_params['n_steps'] = 7488  # set n_steps to 7488 or a factor of 64\n",
    "# model_params['learning_rate'] = 5e-7\n",
    "model_params"
   ]
  },
  {
   "cell_type": "code",
   "execution_count": 25,
   "metadata": {
    "pycharm": {
     "name": "#%%\n"
    }
   },
   "outputs": [
    {
     "name": "stdout",
     "output_type": "stream",
     "text": [
      "Using cuda device\n",
      "Wrapping the env in a VecTransposeImage.\n"
     ]
    }
   ],
   "source": [
    "model = PPO('CnnPolicy', env, tensorboard_log=TRAIN_LOG_DIR, verbose=1, **model_params)"
   ]
  },
  {
   "cell_type": "code",
   "execution_count": 26,
   "metadata": {
    "pycharm": {
     "name": "#%%\n"
    }
   },
   "outputs": [
    {
     "data": {
      "text/plain": [
       "<stable_baselines3.ppo.ppo.PPO at 0x7eff43a927f0>"
      ]
     },
     "execution_count": 26,
     "metadata": {},
     "output_type": "execute_result"
    }
   ],
   "source": [
    "model.load(path)"
   ]
  },
  {
   "cell_type": "code",
   "execution_count": 27,
   "metadata": {
    "pycharm": {
     "name": "#%%\n"
    }
   },
   "outputs": [
    {
     "name": "stdout",
     "output_type": "stream",
     "text": [
      "Logging to ./train_logs/PPO_1\n",
      "-----------------------------\n",
      "| time/              |      |\n",
      "|    fps             | 792  |\n",
      "|    iterations      | 1    |\n",
      "|    time_elapsed    | 9    |\n",
      "|    total_timesteps | 7488 |\n",
      "-----------------------------\n",
      "-----------------------------------------\n",
      "| rollout/                |             |\n",
      "|    ep_len_mean          | 1.16e+04    |\n",
      "|    ep_rew_mean          | 3.17e+04    |\n",
      "| time/                   |             |\n",
      "|    fps                  | 589         |\n",
      "|    iterations           | 2           |\n",
      "|    time_elapsed         | 25          |\n",
      "|    total_timesteps      | 14976       |\n",
      "| train/                  |             |\n",
      "|    approx_kl            | 0.013321469 |\n",
      "|    clip_fraction        | 0.0613      |\n",
      "|    clip_range           | 0.331       |\n",
      "|    entropy_loss         | -8.3        |\n",
      "|    explained_variance   | 0.000121    |\n",
      "|    learning_rate        | 3.54e-05    |\n",
      "|    loss                 | 1.56e+05    |\n",
      "|    n_updates            | 10          |\n",
      "|    policy_gradient_loss | -0.00265    |\n",
      "|    value_loss           | 4.5e+04     |\n",
      "-----------------------------------------\n",
      "-----------------------------------------\n",
      "| rollout/                |             |\n",
      "|    ep_len_mean          | 8.76e+03    |\n",
      "|    ep_rew_mean          | 1.86e+04    |\n",
      "| time/                   |             |\n",
      "|    fps                  | 544         |\n",
      "|    iterations           | 3           |\n",
      "|    time_elapsed         | 41          |\n",
      "|    total_timesteps      | 22464       |\n",
      "| train/                  |             |\n",
      "|    approx_kl            | 0.013870604 |\n",
      "|    clip_fraction        | 0.0537      |\n",
      "|    clip_range           | 0.331       |\n",
      "|    entropy_loss         | -8.29       |\n",
      "|    explained_variance   | -0.00341    |\n",
      "|    learning_rate        | 3.54e-05    |\n",
      "|    loss                 | 881         |\n",
      "|    n_updates            | 20          |\n",
      "|    policy_gradient_loss | -0.00594    |\n",
      "|    value_loss           | 992         |\n",
      "-----------------------------------------\n",
      "-----------------------------------------\n",
      "| rollout/                |             |\n",
      "|    ep_len_mean          | 9.06e+03    |\n",
      "|    ep_rew_mean          | 3.37e+04    |\n",
      "| time/                   |             |\n",
      "|    fps                  | 523         |\n",
      "|    iterations           | 4           |\n",
      "|    time_elapsed         | 57          |\n",
      "|    total_timesteps      | 29952       |\n",
      "| train/                  |             |\n",
      "|    approx_kl            | 0.056162097 |\n",
      "|    clip_fraction        | 0.164       |\n",
      "|    clip_range           | 0.331       |\n",
      "|    entropy_loss         | -8.21       |\n",
      "|    explained_variance   | 0.00059     |\n",
      "|    learning_rate        | 3.54e-05    |\n",
      "|    loss                 | 3.68e+06    |\n",
      "|    n_updates            | 30          |\n",
      "|    policy_gradient_loss | 0.00892     |\n",
      "|    value_loss           | 2.3e+05     |\n",
      "-----------------------------------------\n",
      "-----------------------------------------\n",
      "| rollout/                |             |\n",
      "|    ep_len_mean          | 9.06e+03    |\n",
      "|    ep_rew_mean          | 3.37e+04    |\n",
      "| time/                   |             |\n",
      "|    fps                  | 511         |\n",
      "|    iterations           | 5           |\n",
      "|    time_elapsed         | 73          |\n",
      "|    total_timesteps      | 37440       |\n",
      "| train/                  |             |\n",
      "|    approx_kl            | 0.038861793 |\n",
      "|    clip_fraction        | 0.12        |\n",
      "|    clip_range           | 0.331       |\n",
      "|    entropy_loss         | -8.19       |\n",
      "|    explained_variance   | 0.0145      |\n",
      "|    learning_rate        | 3.54e-05    |\n",
      "|    loss                 | 10.2        |\n",
      "|    n_updates            | 40          |\n",
      "|    policy_gradient_loss | -7.79e-05   |\n",
      "|    value_loss           | 4.04e+04    |\n",
      "-----------------------------------------\n"
     ]
    },
    {
     "data": {
      "text/plain": [
       "<stable_baselines3.ppo.ppo.PPO at 0x7eff43aa9c70>"
      ]
     },
     "execution_count": 27,
     "metadata": {},
     "output_type": "execute_result"
    }
   ],
   "source": [
    "model.learn(total_timesteps=30000, callback=callback)"
   ]
  },
  {
   "cell_type": "code",
   "execution_count": 28,
   "metadata": {
    "pycharm": {
     "name": "#%%\n"
    }
   },
   "outputs": [],
   "source": [
    "mean_reward, _ = evaluate_policy(model, env, render=False, n_eval_episodes=1)"
   ]
  },
  {
   "cell_type": "code",
   "execution_count": 29,
   "metadata": {
    "pycharm": {
     "name": "#%%\n"
    }
   },
   "outputs": [
    {
     "data": {
      "text/plain": [
       "2100.0"
      ]
     },
     "execution_count": 29,
     "metadata": {},
     "output_type": "execute_result"
    }
   ],
   "source": [
    "mean_reward"
   ]
  },
  {
   "cell_type": "code",
   "execution_count": 30,
   "metadata": {
    "pycharm": {
     "name": "#%%\n"
    }
   },
   "outputs": [],
   "source": [
    "obs = env.reset()"
   ]
  },
  {
   "cell_type": "code",
   "execution_count": 31,
   "metadata": {
    "pycharm": {
     "name": "#%%\n"
    }
   },
   "outputs": [
    {
     "data": {
      "text/plain": [
       "(1, 84, 84, 4)"
      ]
     },
     "execution_count": 31,
     "metadata": {},
     "output_type": "execute_result"
    }
   ],
   "source": [
    "obs.shape"
   ]
  },
  {
   "cell_type": "code",
   "execution_count": 32,
   "metadata": {
    "pycharm": {
     "name": "#%%\n"
    }
   },
   "outputs": [
    {
     "data": {
      "text/plain": [
       "(array([[[[  0,   0,  36,   0],\n",
       "          [  0,   0,  36,   0],\n",
       "          [  0,   0,  33,   0],\n",
       "          ...,\n",
       "          [  0,   0,  37,   0],\n",
       "          [  0,   0,  34,   0],\n",
       "          [  0,   0,  36,   0]],\n",
       " \n",
       "         [[  0,   0,  36,   0],\n",
       "          [  0,   0,  36,   0],\n",
       "          [  0,   0,  35,   0],\n",
       "          ...,\n",
       "          [  0,   0,  36,   0],\n",
       "          [  0,   0,  40,   0],\n",
       "          [  0,   0,  40,   0]],\n",
       " \n",
       "         [[  0,   0,  36,   0],\n",
       "          [  0,   0,  36,   0],\n",
       "          [  0,   0,  36,   0],\n",
       "          ...,\n",
       "          [  0,   0,  36,   0],\n",
       "          [  0,   0,  36,   0],\n",
       "          [  0,   0,  36,   0]],\n",
       " \n",
       "         ...,\n",
       " \n",
       "         [[  0,   0, 162,   0],\n",
       "          [  0,   0, 159,   0],\n",
       "          [  0,   0, 159,   0],\n",
       "          ...,\n",
       "          [  0,   0, 159,   0],\n",
       "          [  0,   0, 159,   0],\n",
       "          [  0,   0, 159,   0]],\n",
       " \n",
       "         [[  0,   0, 162,   0],\n",
       "          [  0,   0, 162,   0],\n",
       "          [  0,   0, 162,   0],\n",
       "          ...,\n",
       "          [  0,   0, 162,   0],\n",
       "          [  0,   0, 162,   0],\n",
       "          [  0,   0, 162,   0]],\n",
       " \n",
       "         [[  0,   0, 162,   0],\n",
       "          [  0,   0, 162,   0],\n",
       "          [  0,   0, 162,   0],\n",
       "          ...,\n",
       "          [  0,   0, 162,   0],\n",
       "          [  0,   0, 162,   0],\n",
       "          [  0,   0, 162,   0]]]], dtype=uint8),\n",
       " array([0.], dtype=float32),\n",
       " array([False]),\n",
       " [{'enemy_matches_won': 0,\n",
       "   'score': 0,\n",
       "   'matches_won': 0,\n",
       "   'continuetimer': 0,\n",
       "   'enemy_health': 176,\n",
       "   'health': 176}])"
      ]
     },
     "execution_count": 32,
     "metadata": {},
     "output_type": "execute_result"
    }
   ],
   "source": [
    "env.step(model.predict(obs)[0])"
   ]
  },
  {
   "cell_type": "code",
   "execution_count": 33,
   "metadata": {
    "pycharm": {
     "name": "#%%\n"
    }
   },
   "outputs": [
    {
     "name": "stdout",
     "output_type": "stream",
     "text": [
      "[100.]\n",
      "[1000.]\n",
      "[500.]\n",
      "[1000.]\n",
      "[500.]\n",
      "[100.]\n",
      "[1000.]\n",
      "[100.]\n",
      "[500.]\n",
      "[100.]\n",
      "[1000.]\n",
      "[100.]\n",
      "[300.]\n",
      "[500.]\n",
      "[1000.]\n",
      "[500.]\n",
      "[100.]\n",
      "[1000.]\n",
      "[1000.]\n",
      "[1000.]\n",
      "[1000.]\n",
      "[500.]\n",
      "[1000.]\n",
      "[500.]\n",
      "[100.]\n",
      "[100.]\n",
      "[100.]\n",
      "[1000.]\n"
     ]
    }
   ],
   "source": [
    "# Reset game to starting state\n",
    "obs = env.reset()\n",
    "# Set flag to flase\n",
    "done = False\n",
    "for game in range(1):\n",
    "    while not done:\n",
    "        if done:\n",
    "            obs = env.reset()\n",
    "#         env.render()\n",
    "        action = model.predict(obs)[0]\n",
    "        obs, reward, done, info = env.step(action)\n",
    "        time.sleep(0.01)\n",
    "        if reward: print(reward)"
   ]
  }
 ],
 "metadata": {
  "kernelspec": {
   "display_name": "Python 3",
   "language": "python",
   "name": "python3"
  },
  "language_info": {
   "codemirror_mode": {
    "name": "ipython",
    "version": 3
   },
   "file_extension": ".py",
   "mimetype": "text/x-python",
   "name": "python",
   "nbconvert_exporter": "python",
   "pygments_lexer": "ipython3",
   "version": "3.8.8"
  }
 },
 "nbformat": 4,
 "nbformat_minor": 1
}
