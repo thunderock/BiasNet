{
 "cells": [
  {
   "cell_type": "code",
   "execution_count": 1,
   "id": "b8f06220",
   "metadata": {},
   "outputs": [],
   "source": [
    "from constants import *\n",
    "from utils import evaluate_model_policy\n",
    "from trainer import get_trained_model\n",
    "import optuna\n",
    "from environment import StreetFighterEnv\n",
    "from stable_baselines3 import PPO, A2C\n",
    "from stable_baselines3.common.monitor import Monitor\n",
    "from stable_baselines3.common.vec_env import DummyVecEnv, VecFrameStack\n",
    "from actor_critic import A2CCNNPolicy\n",
    "from feature_extractors import CNNExtractorWithAttention, CNNExtractor\n",
    "from tuner import Tuner\n",
    "import os\n",
    "import plotly.io as pio\n",
    "pio.renderers.default='notebook'"
   ]
  },
  {
   "cell_type": "markdown",
   "id": "31814abb",
   "metadata": {},
   "source": [
    "# MODEL WITH ATTENTION"
   ]
  },
  {
   "cell_type": "code",
   "execution_count": null,
   "id": "2961cd6e",
   "metadata": {},
   "outputs": [
    {
     "name": "stderr",
     "output_type": "stream",
     "text": [
      "\u001b[32m[I 2022-04-17 01:47:29,493]\u001b[0m A new study created in memory with name: no-name-3a379b3c-bf60-4afe-80ab-b0f7d46376a6\u001b[0m\n"
     ]
    }
   ],
   "source": [
    "model = A2C\n",
    "model_dir = 'models/with_attention'\n",
    "env = StreetFighterEnv()\n",
    "policy_network = A2CCNNPolicy\n",
    "frame_size = 1\n",
    "timesteps = 1\n",
    "policy_kwargs = dict(\n",
    "    features_extractor_class=CNNExtractorWithAttention\n",
    ")\n",
    "tuner = Tuner(model=model, env=env, policy_network=policy_network, policy_args=policy_kwargs, \n",
    "              frame_size=frame_size, timesteps=timesteps, save_dir=model_dir)\n",
    "\n",
    "study = tuner.tune_study(n_trials=2, )\n",
    "env.close()\n",
    "\n",
    "study.best_trial, study.best_params"
   ]
  },
  {
   "cell_type": "code",
   "execution_count": null,
   "id": "b63868d6",
   "metadata": {},
   "outputs": [],
   "source": [
    "optuna.visualization.plot_parallel_coordinate(study)"
   ]
  },
  {
   "cell_type": "code",
   "execution_count": null,
   "id": "cc9d62ba",
   "metadata": {},
   "outputs": [],
   "source": [
    "optuna.visualization.plot_contour(study)"
   ]
  },
  {
   "cell_type": "code",
   "execution_count": null,
   "id": "44ab9676",
   "metadata": {},
   "outputs": [],
   "source": [
    "optuna.visualization.plot_slice(study)"
   ]
  },
  {
   "cell_type": "code",
   "execution_count": null,
   "id": "7d386789",
   "metadata": {},
   "outputs": [],
   "source": [
    "optuna.visualization.plot_param_importances(study)"
   ]
  },
  {
   "cell_type": "code",
   "execution_count": null,
   "id": "d62a966d",
   "metadata": {},
   "outputs": [],
   "source": [
    "optuna.visualization.plot_edf(study)"
   ]
  },
  {
   "cell_type": "code",
   "execution_count": null,
   "id": "0606dc6f",
   "metadata": {},
   "outputs": [],
   "source": [
    "optuna.visualization.plot_optimization_history(study)"
   ]
  },
  {
   "cell_type": "markdown",
   "id": "df686c03",
   "metadata": {},
   "source": [
    "# MODEL WITHOUT ATTENTION"
   ]
  },
  {
   "cell_type": "code",
   "execution_count": null,
   "id": "958fa439",
   "metadata": {},
   "outputs": [],
   "source": [
    "model = A2C\n",
    "model_dir = 'models/without_attention'\n",
    "env = StreetFighterEnv()\n",
    "policy_network = A2CCNNPolicy\n",
    "frame_size = 1\n",
    "timesteps = 1\n",
    "policy_kwargs = dict(\n",
    "    features_extractor_class=CNNExtractor\n",
    ")\n",
    "tuner = Tuner(model=model, env=env, policy_network=policy_network, policy_args=policy_kwargs, \n",
    "              frame_size=frame_size, timesteps=timesteps, save_dir=model_dir)\n",
    "\n",
    "study = tuner.tune_study(n_trials=2, )\n",
    "env.close()\n",
    "study.best_trial, study.best_params"
   ]
  },
  {
   "cell_type": "code",
   "execution_count": null,
   "id": "68d234c8",
   "metadata": {},
   "outputs": [],
   "source": [
    "optuna.visualization.plot_parallel_coordinate(study)"
   ]
  },
  {
   "cell_type": "code",
   "execution_count": null,
   "id": "1ee2d883",
   "metadata": {},
   "outputs": [],
   "source": [
    "optuna.visualization.plot_contour(study)"
   ]
  },
  {
   "cell_type": "code",
   "execution_count": null,
   "id": "d2ed282b",
   "metadata": {},
   "outputs": [],
   "source": [
    "optuna.visualization.plot_slice(study)"
   ]
  },
  {
   "cell_type": "code",
   "execution_count": null,
   "id": "54784074",
   "metadata": {},
   "outputs": [],
   "source": [
    "optuna.visualization.plot_param_importances(study)"
   ]
  },
  {
   "cell_type": "code",
   "execution_count": null,
   "id": "42002157",
   "metadata": {},
   "outputs": [],
   "source": [
    "optuna.visualization.plot_edf(study)"
   ]
  },
  {
   "cell_type": "code",
   "execution_count": null,
   "id": "f76c2efe",
   "metadata": {},
   "outputs": [],
   "source": [
    "optuna.visualization.plot_optimization_history(study)"
   ]
  },
  {
   "cell_type": "code",
   "execution_count": null,
   "id": "bcff6d8a",
   "metadata": {},
   "outputs": [],
   "source": []
  }
 ],
 "metadata": {
  "kernelspec": {
   "display_name": "Python 3",
   "language": "python",
   "name": "python3"
  },
  "language_info": {
   "codemirror_mode": {
    "name": "ipython",
    "version": 3
   },
   "file_extension": ".py",
   "mimetype": "text/x-python",
   "name": "python",
   "nbconvert_exporter": "python",
   "pygments_lexer": "ipython3",
   "version": "3.8.10"
  }
 },
 "nbformat": 4,
 "nbformat_minor": 5
}
