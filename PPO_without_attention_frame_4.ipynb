{
 "cells": [
  {
   "cell_type": "code",
   "execution_count": null,
   "id": "5bf7cc97",
   "metadata": {},
   "outputs": [],
   "source": [
    "import os\n",
    "import shutil\n",
    "import time\n",
    "\n",
    "from environment import StreetFighterEnv\n",
    "from stable_baselines3 import PPO, A2C\n",
    "from stable_baselines3.common.evaluation import evaluate_policy\n",
    "from stable_baselines3.common.monitor import Monitor\n",
    "from stable_baselines3.common.vec_env import DummyVecEnv, VecFrameStack\n",
    "from stable_baselines3.common.callbacks import BaseCallback\n",
    "\n",
    "import optuna\n",
    "from model import policy_kwargs\n",
    "import warnings\n",
    "\n",
    "warnings.simplefilter(\"ignore\")"
   ]
  },
  {
   "cell_type": "code",
   "execution_count": null,
   "id": "9487b22a",
   "metadata": {},
   "outputs": [],
   "source": [
    "def optimize_ppo(trial):\n",
    "    return {\n",
    "        'n_steps':trial.suggest_int('n_steps', 2048, 8192),\n",
    "        'gamma':trial.suggest_loguniform('gamma', 0.8, 0.9999),\n",
    "        'learning_rate':trial.suggest_loguniform('learning_rate', 1e-5, 1e-4),\n",
    "        'clip_range':trial.suggest_uniform('clip_range', 0.1, 0.4),\n",
    "        'gae_lambda':trial.suggest_uniform('gae_lambda', 0.8, 0.99)\n",
    "    }"
   ]
  },
  {
   "cell_type": "code",
   "execution_count": null,
   "id": "47fe2705",
   "metadata": {},
   "outputs": [],
   "source": [
    "BASE_DIR = './PPO_without_attention_frame_4/'\n",
    "LOG_DIR = '{}logs/'.format(BASE_DIR)\n",
    "OPT_DIR = '{}opt/'.format(BASE_DIR)\n",
    "CHECKPOINT_DIR = '{}train/'.format(BASE_DIR)\n",
    "TRAIN_LOG_DIR = '{}train_logs/'.format(BASE_DIR)\n",
    "RECORD_DIR = '{}record/'.format(BASE_DIR)\n",
    "\n",
    "for i in [BASE_DIR, LOG_DIR, OPT_DIR, CHECKPOINT_DIR, TRAIN_LOG_DIR, RECORD_DIR]:\n",
    "\n",
    "    shutil.rmtree(i, ignore_errors=True)\n",
    "    os.mkdir(i)\n",
    "    \n",
    "    \n",
    "def optimize_agent(trial):\n",
    "    mean_reward = 0.\n",
    "    try:\n",
    "        model_params = optimize_ppo(trial)\n",
    "\n",
    "        print(model_params)\n",
    "        env = StreetFighterEnv(RECORD_DIR)\n",
    "        env = Monitor(env, LOG_DIR)\n",
    "        env = DummyVecEnv([lambda: env])\n",
    "        env = VecFrameStack(env, 4, channels_order='last')\n",
    "        model = PPO(\"CnnPolicy\", env, verbose=0, tensorboard_log=LOG_DIR, policy_kwargs=policy_kwargs, **model_params)\n",
    "\n",
    "        model.learn(total_timesteps=100000)\n",
    "        \n",
    "        mean_reward, _ = evaluate_policy(model, env, n_eval_episodes=5)\n",
    "        env.close()\n",
    "\n",
    "        SAVE_PATH = os.path.join(OPT_DIR, 'trial_{}_best_model'.format(trial.number))\n",
    "        model.save(SAVE_PATH)\n",
    "\n",
    "        \n",
    "    except:\n",
    "        pass\n",
    "    print(mean_reward)\n",
    "    return mean_reward"
   ]
  },
  {
   "cell_type": "code",
   "execution_count": null,
   "id": "ba1523ed",
   "metadata": {},
   "outputs": [],
   "source": [
    "study = optuna.create_study(direction='maximize')\n",
    "study.optimize(optimize_agent, n_trials=20, n_jobs=1)\n"
   ]
  },
  {
   "cell_type": "code",
   "execution_count": null,
   "id": "69bd3e67",
   "metadata": {},
   "outputs": [],
   "source": [
    "optuna.visualization.plot_parallel_coordinate(study)"
   ]
  },
  {
   "cell_type": "code",
   "execution_count": null,
   "id": "abcad599",
   "metadata": {},
   "outputs": [],
   "source": [
    "optuna.visualization.plot_contour(study, params=['gamma', 'learning_rate', 'n_steps'])"
   ]
  },
  {
   "cell_type": "code",
   "execution_count": null,
   "id": "b29ef79d",
   "metadata": {},
   "outputs": [],
   "source": [
    "optuna.visualization.plot_slice(study)"
   ]
  },
  {
   "cell_type": "code",
   "execution_count": null,
   "id": "fb6e743f",
   "metadata": {},
   "outputs": [],
   "source": [
    "optuna.visualization.plot_param_importances(study)"
   ]
  },
  {
   "cell_type": "code",
   "execution_count": null,
   "id": "4e274866",
   "metadata": {},
   "outputs": [],
   "source": [
    "optuna.visualization.plot_edf(study)"
   ]
  },
  {
   "cell_type": "code",
   "execution_count": null,
   "id": "0fd7119e",
   "metadata": {},
   "outputs": [],
   "source": [
    "optuna.visualization.plot_optimization_history(study)"
   ]
  },
  {
   "cell_type": "code",
   "execution_count": null,
   "id": "4bc84fed",
   "metadata": {},
   "outputs": [],
   "source": [
    "study.best_params"
   ]
  },
  {
   "cell_type": "code",
   "execution_count": null,
   "id": "8a8de402",
   "metadata": {},
   "outputs": [],
   "source": [
    "path = os.path.join(OPT_DIR, 'trial_{}_best_model.zip'.format(study.best_trial.number))\n",
    "print(path)\n",
    "model = PPO.load(path)"
   ]
  },
  {
   "cell_type": "code",
   "execution_count": null,
   "id": "09e23f28",
   "metadata": {},
   "outputs": [],
   "source": [
    "class TrainAndLoggingCallback(BaseCallback):\n",
    "\n",
    "    def __init__(self, check_freq, save_path, verbose=1):\n",
    "        super(TrainAndLoggingCallback, self).__init__(verbose)\n",
    "        self.check_freq = check_freq\n",
    "        self.save_path = save_path\n",
    "\n",
    "    def _init_callback(self):\n",
    "        if self.save_path is not None:\n",
    "            os.makedirs(self.save_path, exist_ok=True)\n",
    "\n",
    "    def _on_step(self):\n",
    "        if self.n_calls % self.check_freq == 0:\n",
    "            model_path = os.path.join(self.save_path, 'best_model_{}'.format(self.n_calls))\n",
    "            self.model.save(model_path)\n",
    "\n",
    "        return True"
   ]
  },
  {
   "cell_type": "code",
   "execution_count": null,
   "id": "175fc575",
   "metadata": {},
   "outputs": [],
   "source": [
    "\n",
    "callback = TrainAndLoggingCallback(check_freq=10000, save_path=CHECKPOINT_DIR)"
   ]
  },
  {
   "cell_type": "code",
   "execution_count": null,
   "id": "e33087f6",
   "metadata": {},
   "outputs": [],
   "source": [
    "# for i in [LOG_DIR, CHECKPOINT_DIR, TRAIN_LOG_DIR, RECORD_DIR]:\n",
    "        \n",
    "#     shutil.rmtree(i)\n",
    "#     os.mkdir(i)\n",
    "    \n",
    "model_params = study.best_params\n",
    "model_params['n_steps'] = 7488\n",
    "\n",
    "env = StreetFighterEnv(RECORD_DIR)\n",
    "env = Monitor(env, LOG_DIR)\n",
    "env = DummyVecEnv([lambda: env])\n",
    "env = VecFrameStack(env, 4, channels_order='last')\n",
    "model = PPO(\"CnnPolicy\", env, verbose=1, tensorboard_log=LOG_DIR, policy_kwargs=policy_kwargs, **model_params)\n"
   ]
  },
  {
   "cell_type": "code",
   "execution_count": null,
   "id": "ba155e58",
   "metadata": {},
   "outputs": [],
   "source": [
    "model.load(path)"
   ]
  },
  {
   "cell_type": "code",
   "execution_count": null,
   "id": "5498d698",
   "metadata": {},
   "outputs": [],
   "source": [
    "model.learn(total_timesteps=30000, callback=callback)"
   ]
  },
  {
   "cell_type": "code",
   "execution_count": null,
   "id": "6ea762ec",
   "metadata": {},
   "outputs": [],
   "source": [
    "mean_reward, _ = evaluate_policy(model, env, render=False, n_eval_episodes=5)\n",
    "mean_reward"
   ]
  },
  {
   "cell_type": "code",
   "execution_count": null,
   "id": "8c9992c5",
   "metadata": {},
   "outputs": [],
   "source": [
    "model.save(BASE_DIR + 'final_model')"
   ]
  },
  {
   "cell_type": "code",
   "execution_count": null,
   "id": "cef2d1e0",
   "metadata": {},
   "outputs": [],
   "source": [
    "# obs = env.reset()\n",
    "# obs.shape"
   ]
  },
  {
   "cell_type": "code",
   "execution_count": null,
   "id": "7c935b41",
   "metadata": {},
   "outputs": [],
   "source": [
    "# env.step(model.predict(obs)[0])"
   ]
  },
  {
   "cell_type": "code",
   "execution_count": null,
   "id": "3c65bb8a",
   "metadata": {},
   "outputs": [],
   "source": [
    "# # Reset game to starting state\n",
    "# obs = env.reset()\n",
    "# # Set flag to flase\n",
    "# done = False\n",
    "# for game in range(1):\n",
    "#     while not done:\n",
    "#         if done:\n",
    "#             obs = env.reset()\n",
    "#         env.render()\n",
    "#         action = model.predict(obs)[0]\n",
    "#         obs, reward, done, info = env.step(action)\n",
    "#         time.sleep(0.01)\n",
    "#         if reward: print(reward)"
   ]
  }
 ],
 "metadata": {
  "kernelspec": {
   "display_name": "Python 3",
   "language": "python",
   "name": "python3"
  },
  "language_info": {
   "codemirror_mode": {
    "name": "ipython",
    "version": 3
   },
   "file_extension": ".py",
   "mimetype": "text/x-python",
   "name": "python",
   "nbconvert_exporter": "python",
   "pygments_lexer": "ipython3",
   "version": "3.8.10"
  }
 },
 "nbformat": 4,
 "nbformat_minor": 5
}
