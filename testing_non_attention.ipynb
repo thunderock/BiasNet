{
 "cells": [
  {
   "cell_type": "code",
   "execution_count": 1,
   "id": "b8f06220",
   "metadata": {},
   "outputs": [],
   "source": [
    "from constants import *\n",
    "from utils import evaluate_model_policy, plot_study, plot_fig\n",
    "from trainer import get_trained_model\n",
    "import optuna\n",
    "from environment import StreetFighterEnv\n",
    "from stable_baselines3 import PPO, A2C\n",
    "from stable_baselines3.common.monitor import Monitor\n",
    "from stable_baselines3.common.vec_env import DummyVecEnv, VecFrameStack\n",
    "from actor_critic import A2CCNNPolicy\n",
    "from feature_extractors import CNNExtractorWithAttention, CNNExtractor\n",
    "from tuner import Tuner\n",
    "import os"
   ]
  },
  {
   "cell_type": "code",
   "execution_count": 2,
   "id": "488d21a1",
   "metadata": {},
   "outputs": [],
   "source": [
    "TIMESTEPS = 1000000\n",
    "N_TRIALS = 20\n",
    "\n",
    "\n",
    "PLOTLY_CONFIG = {\"staticPlot\": True}"
   ]
  },
  {
   "cell_type": "code",
   "execution_count": null,
   "id": "958fa439",
   "metadata": {},
   "outputs": [
    {
     "name": "stderr",
     "output_type": "stream",
     "text": [
      "\u001b[32m[I 2022-04-17 03:36:54,979]\u001b[0m A new study created in memory with name: no-name-e58ed6aa-e8fd-4c76-86dc-d29957c5b4a5\u001b[0m\n"
     ]
    },
    {
     "data": {
      "application/vnd.jupyter.widget-view+json": {
       "model_id": "676e90e776e445d9abeaa8fe83ff0f94",
       "version_major": 2,
       "version_minor": 0
      },
      "text/plain": [
       "  0%|          | 0/20 [00:00<?, ?it/s]"
      ]
     },
     "metadata": {},
     "output_type": "display_data"
    },
    {
     "name": "stdout",
     "output_type": "stream",
     "text": [
      "\u001b[32m[I 2022-04-17 04:31:08,319]\u001b[0m Trial 0 finished with value: 2000.0 and parameters: {'gamma': 0.9846612102527807, 'learning_rate': 4.182700429312336e-05, 'gae_lambda': 0.8599962746241014}. Best is trial 0 with value: 2000.0.\u001b[0m\n",
      "\u001b[32m[I 2022-04-17 05:25:42,985]\u001b[0m Trial 1 finished with value: 0.0 and parameters: {'gamma': 0.8879112043707658, 'learning_rate': 5.6931717055141766e-05, 'gae_lambda': 0.8939783087245323}. Best is trial 0 with value: 2000.0.\u001b[0m\n",
      "\u001b[32m[I 2022-04-17 06:20:07,970]\u001b[0m Trial 2 finished with value: 2200.0 and parameters: {'gamma': 0.8201796883414265, 'learning_rate': 8.921807756568587e-05, 'gae_lambda': 0.9447702045165252}. Best is trial 2 with value: 2200.0.\u001b[0m\n",
      "\u001b[32m[I 2022-04-17 07:13:37,942]\u001b[0m Trial 3 finished with value: 1100.0 and parameters: {'gamma': 0.9215627425347765, 'learning_rate': 2.717195347681481e-05, 'gae_lambda': 0.8738030921605273}. Best is trial 2 with value: 2200.0.\u001b[0m\n",
      "\u001b[32m[I 2022-04-17 08:06:36,956]\u001b[0m Trial 4 finished with value: 1000.0 and parameters: {'gamma': 0.8364765769207394, 'learning_rate': 2.168767699891366e-05, 'gae_lambda': 0.824603006504128}. Best is trial 2 with value: 2200.0.\u001b[0m\n",
      "\u001b[32m[I 2022-04-17 09:00:33,667]\u001b[0m Trial 5 finished with value: 0.0 and parameters: {'gamma': 0.9361169325470846, 'learning_rate': 4.815877077297273e-05, 'gae_lambda': 0.8192946213778416}. Best is trial 2 with value: 2200.0.\u001b[0m\n",
      "\u001b[32m[I 2022-04-17 09:53:45,293]\u001b[0m Trial 6 finished with value: 2000.0 and parameters: {'gamma': 0.935431191641477, 'learning_rate': 5.876998827883502e-05, 'gae_lambda': 0.905733609982795}. Best is trial 2 with value: 2200.0.\u001b[0m\n",
      "\u001b[32m[I 2022-04-17 10:46:23,601]\u001b[0m Trial 7 finished with value: 1000.0 and parameters: {'gamma': 0.9539978266141078, 'learning_rate': 6.766820062507199e-05, 'gae_lambda': 0.8926753089432815}. Best is trial 2 with value: 2200.0.\u001b[0m\n",
      "\u001b[32m[I 2022-04-17 11:39:58,935]\u001b[0m Trial 8 finished with value: 0.0 and parameters: {'gamma': 0.8499665850140338, 'learning_rate': 1.1292939517672637e-05, 'gae_lambda': 0.923600320123015}. Best is trial 2 with value: 2200.0.\u001b[0m\n",
      "\u001b[32m[I 2022-04-17 12:32:59,944]\u001b[0m Trial 9 finished with value: 2000.0 and parameters: {'gamma': 0.9022465205095885, 'learning_rate': 7.0849673040855e-05, 'gae_lambda': 0.9136162031772066}. Best is trial 2 with value: 2200.0.\u001b[0m\n",
      "\u001b[32m[I 2022-04-17 13:26:01,320]\u001b[0m Trial 10 finished with value: 2000.0 and parameters: {'gamma': 0.866802690473286, 'learning_rate': 9.999999999999999e-05, 'gae_lambda': 0.9702516272418455}. Best is trial 2 with value: 2200.0.\u001b[0m\n",
      "\u001b[32m[I 2022-04-17 14:19:21,944]\u001b[0m Trial 11 finished with value: 2000.0 and parameters: {'gamma': 0.8126268554718995, 'learning_rate': 9.999999999999999e-05, 'gae_lambda': 0.9825415112553143}. Best is trial 2 with value: 2200.0.\u001b[0m\n"
     ]
    }
   ],
   "source": [
    "model = A2C\n",
    "model_dir = 'models/without_attention'\n",
    "env = StreetFighterEnv()\n",
    "policy_network = A2CCNNPolicy\n",
    "frame_size = 1\n",
    "policy_kwargs = dict(\n",
    "    features_extractor_class=CNNExtractor\n",
    ")\n",
    "tuner = Tuner(model=model, env=env, policy_network=policy_network, policy_args=policy_kwargs, \n",
    "              frame_size=frame_size, timesteps=TIMESTEPS, save_dir=model_dir)\n",
    "\n",
    "study = tuner.tune_study(n_trials=N_TRIALS, )\n",
    "study.best_trial.number, study.best_params"
   ]
  },
  {
   "cell_type": "code",
   "execution_count": null,
   "id": "68d234c8",
   "metadata": {},
   "outputs": [],
   "source": [
    "plots = plot_study(study)\n",
    "for plot in plots:\n",
    "    plot.show(\"notebook\", config=PLOTLY_CONFIG)"
   ]
  }
 ],
 "metadata": {
  "kernelspec": {
   "display_name": "Python 3",
   "language": "python",
   "name": "python3"
  },
  "language_info": {
   "codemirror_mode": {
    "name": "ipython",
    "version": 3
   },
   "file_extension": ".py",
   "mimetype": "text/x-python",
   "name": "python",
   "nbconvert_exporter": "python",
   "pygments_lexer": "ipython3",
   "version": "3.8.10"
  }
 },
 "nbformat": 4,
 "nbformat_minor": 5
}
